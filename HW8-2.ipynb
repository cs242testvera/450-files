{
 "cells": [
  {
   "cell_type": "code",
   "execution_count": 15,
   "metadata": {},
   "outputs": [
    {
     "name": "stdout",
     "output_type": "stream",
     "text": [
      "['0000', '0001', '0010', '0011', '0100', '0101', '0110', '0111', '1000', '1001', '1010', '1011', '1100', '1101', '1110', '1111']\n"
     ]
    }
   ],
   "source": [
    "import numpy as np \n",
    "import math\n",
    "decimals = []\n",
    "\n",
    "for i in range(2**4):\n",
    "    decimals.append('{:04b}'.format(i))\n",
    "\n",
    "print(decimals)"
   ]
  },
  {
   "cell_type": "code",
   "execution_count": 16,
   "metadata": {},
   "outputs": [],
   "source": [
    "def to_decimal(s):\n",
    "    dig = len(s)\n",
    "    val = 0.\n",
    "    for i in range(dig):\n",
    "        dig_val = int(s[i])\n",
    "        if(dig_val == 1):\n",
    "            val += 2**(-1 * (i+1))\n",
    "    return val"
   ]
  },
  {
   "cell_type": "code",
   "execution_count": 17,
   "metadata": {},
   "outputs": [],
   "source": [
    "values = np.zeros(2**4)\n",
    "for i in range(2**4):\n",
    "    values[i] = 1/math.sqrt(to_decimal(decimals[i]) + 1.)"
   ]
  },
  {
   "cell_type": "code",
   "execution_count": 18,
   "metadata": {},
   "outputs": [
    {
     "name": "stdout",
     "output_type": "stream",
     "text": [
      "[ 1.     0.97   0.943  0.918  0.894  0.873  0.853  0.834  0.816  0.8    0.784\n",
      "  0.77   0.756  0.743  0.73   0.718]\n"
     ]
    }
   ],
   "source": [
    "print (np.round(values,3))"
   ]
  },
  {
   "cell_type": "code",
   "execution_count": 19,
   "metadata": {},
   "outputs": [
    {
     "data": {
      "text/plain": [
       "0.035611846875"
      ]
     },
     "execution_count": 19,
     "metadata": {},
     "output_type": "execute_result"
    }
   ],
   "source": [
    "0.56978955 * 2**(-4)"
   ]
  },
  {
   "cell_type": "code",
   "execution_count": 24,
   "metadata": {},
   "outputs": [],
   "source": [
    "def float_bin(number, places):\n",
    "    whole, dec = str(number).split(\".\")\n",
    "    whole = int(whole)\n",
    "    dec = int(dec)\n",
    "    res = bin(whole).lstrip(\"0b\") + \".\"\n",
    "    for x in range(places): \n",
    "        whole, dec = str((decimal_converter(dec)) * 2).split(\".\")\n",
    "        dec = int(dec) \n",
    "        res += whole \n",
    "    return res \n",
    "\n",
    "def decimal_converter(num):  \n",
    "    while num > 1: \n",
    "        num /= 10\n",
    "    return num "
   ]
  },
  {
   "cell_type": "code",
   "execution_count": 56,
   "metadata": {},
   "outputs": [
    {
     "data": {
      "text/plain": [
       "'.1011111110111100'"
      ]
     },
     "execution_count": 56,
     "metadata": {},
     "output_type": "execute_result"
    }
   ],
   "source": [
    "temp = float_bin(0.52217329, 16)\n",
    "temp"
   ]
  },
  {
   "cell_type": "code",
   "execution_count": 57,
   "metadata": {},
   "outputs": [
    {
     "data": {
      "text/plain": [
       "'1011111110111100'"
      ]
     },
     "execution_count": 57,
     "metadata": {},
     "output_type": "execute_result"
    }
   ],
   "source": [
    "temp[1:]"
   ]
  },
  {
   "cell_type": "code",
   "execution_count": 58,
   "metadata": {},
   "outputs": [
    {
     "data": {
      "text/plain": [
       "0.74896240234375"
      ]
     },
     "execution_count": 58,
     "metadata": {},
     "output_type": "execute_result"
    }
   ],
   "source": [
    "to_decimal(temp[1:])"
   ]
  },
  {
   "cell_type": "code",
   "execution_count": null,
   "metadata": {
    "collapsed": true
   },
   "outputs": [],
   "source": []
  }
 ],
 "metadata": {
  "kernelspec": {
   "display_name": "Python 3",
   "language": "python",
   "name": "python3"
  },
  "language_info": {
   "codemirror_mode": {
    "name": "ipython",
    "version": 3
   },
   "file_extension": ".py",
   "mimetype": "text/x-python",
   "name": "python",
   "nbconvert_exporter": "python",
   "pygments_lexer": "ipython3",
   "version": "3.6.3"
  }
 },
 "nbformat": 4,
 "nbformat_minor": 2
}
